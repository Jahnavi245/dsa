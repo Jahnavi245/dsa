{
  "nbformat": 4,
  "nbformat_minor": 0,
  "metadata": {
    "colab": {
      "provenance": [],
      "authorship_tag": "ABX9TyNm53ru2eE3uNno2jgULObA",
      "include_colab_link": true
    },
    "kernelspec": {
      "name": "python3",
      "display_name": "Python 3"
    },
    "language_info": {
      "name": "python"
    }
  },
  "cells": [
    {
      "cell_type": "markdown",
      "metadata": {
        "id": "view-in-github",
        "colab_type": "text"
      },
      "source": [
        "<a href=\"https://colab.research.google.com/github/Jahnavi245/dsa/blob/arrays/Untitled2.ipynb\" target=\"_parent\"><img src=\"https://colab.research.google.com/assets/colab-badge.svg\" alt=\"Open In Colab\"/></a>"
      ]
    },
    {
      "cell_type": "code",
      "execution_count": 6,
      "metadata": {
        "colab": {
          "base_uri": "https://localhost:8080/"
        },
        "id": "A-Ar9X6nfp61",
        "outputId": "ed8c5e04-64d0-4e73-f51d-30da705b73ba"
      },
      "outputs": [
        {
          "output_type": "stream",
          "name": "stdout",
          "text": [
            "Full Slice: [1, 2, 3, 4, 5, 6]\n",
            "slice with start = 2: [3, 4, 5, 6]\n",
            "slice with stop = 4: [1, 2, 3, 4] [1, 2, 3, 4]\n"
          ]
        }
      ],
      "source": [
        "a=[1,2,3,4,5,6]\n",
        "print(\"Full Slice:\", a[:])\n",
        "print(\"slice with start = 2:\", a[2:])\n",
        "print(\"slice with stop = 4:\", a[:4], a[:4])"
      ]
    }
  ]
}