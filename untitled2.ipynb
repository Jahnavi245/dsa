{
  "nbformat": 4,
  "nbformat_minor": 0,
  "metadata": {
    "colab": {
      "provenance": [],
      "authorship_tag": "ABX9TyP2kC7wkn0xMT0Y8RNH5863",
      "include_colab_link": true
    },
    "kernelspec": {
      "name": "python3",
      "display_name": "Python 3"
    },
    "language_info": {
      "name": "python"
    }
  },
  "cells": [
    {
      "cell_type": "markdown",
      "metadata": {
        "id": "view-in-github",
        "colab_type": "text"
      },
      "source": [
        "<a href=\"https://colab.research.google.com/github/Jahnavi245/dsa/blob/arrays/untitled2.ipynb\" target=\"_parent\"><img src=\"https://colab.research.google.com/assets/colab-badge.svg\" alt=\"Open In Colab\"/></a>"
      ]
    },
    {
      "cell_type": "code",
      "execution_count": null,
      "metadata": {
        "colab": {
          "base_uri": "https://localhost:8080/"
        },
        "id": "A-Ar9X6nfp61",
        "outputId": "7c372360-ee6f-496f-f279-f8edaa5b44e9"
      },
      "outputs": [
        {
          "output_type": "stream",
          "name": "stdout",
          "text": [
            "Full Slice: [1, 2, 3, 4, 5, 6]\n",
            "slice with start = 2: [3, 4, 5, 6]\n"
          ]
        }
      ],
      "source": [
        "a=[1,2,3,4,5,6]\n",
        "print(\"Full Slice:\", a[:])\n",
        "print(\"slice with start = 2:\", a[2:])"
      ]
    },
    {
      "cell_type": "code",
      "source": [
        "print (\"jahnavi\")"
      ],
      "metadata": {
        "colab": {
          "base_uri": "https://localhost:8080/"
        },
        "id": "SmaUYtOzHym9",
        "outputId": "3bd24830-79d9-492d-c23a-988b7606f4f8"
      },
      "execution_count": null,
      "outputs": [
        {
          "output_type": "stream",
          "name": "stdout",
          "text": [
            "jahnavi\n"
          ]
        }
      ]
    }
  ]
}